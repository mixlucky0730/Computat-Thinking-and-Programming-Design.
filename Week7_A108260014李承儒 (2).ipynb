{
  "nbformat": 4,
  "nbformat_minor": 0,
  "metadata": {
    "colab": {
      "name": "Week7 A108260014李承儒.ipynb",
      "provenance": []
    },
    "kernelspec": {
      "name": "python3",
      "display_name": "Python 3"
    }
  },
  "cells": [
    {
      "cell_type": "code",
      "metadata": {
        "id": "Rf7rvLvOaRsH",
        "colab_type": "code",
        "colab": {
          "base_uri": "https://localhost:8080/",
          "height": 85
        },
        "outputId": "63ba3609-abf5-4933-97b0-0dfa133506f3"
      },
      "source": [
        "#1.存取串列中元素\n",
        "s = input('請輸入一行英文句子?')\n",
        "words = s.split(' ')\n",
        "print('將英文句子以空白字元切割後,獲得單字為', words)\n",
        "s2 = ' '.join(words)\n",
        "print('以空白字元結合所有單字後,獲得句子為', s2)\n",
        "s3 = s.title()\n",
        "print('將每個單字字首轉大寫後,獲得句子為',s3)"
      ],
      "execution_count": 1,
      "outputs": [
        {
          "output_type": "stream",
          "text": [
            "請輸入一行英文句子?an apple a day keeps the doctor away\n",
            "將英文句子以空白字元切割後,獲得單字為 ['an', 'apple', 'a', 'day', 'keeps', 'the', 'doctor', 'away']\n",
            "以空白字元結合所有單字後,獲得句子為 an apple a day keeps the doctor away\n",
            "將每個單字字首轉大寫後,獲得句子為 An Apple A Day Keeps The Doctor Away\n"
          ],
          "name": "stdout"
        }
      ]
    },
    {
      "cell_type": "code",
      "metadata": {
        "id": "EEFS7-yPaW8X",
        "colab_type": "code",
        "colab": {
          "base_uri": "https://localhost:8080/",
          "height": 51
        },
        "outputId": "4075ae9f-97ca-4196-d958-cac154bbf860"
      },
      "source": [
        "s = input('請輸入一行英文句子?')\n",
        "s.strip(' .')\n",
        "words = s.split(' ')\n",
        "print(words[::-1])"
      ],
      "execution_count": 2,
      "outputs": [
        {
          "output_type": "stream",
          "text": [
            "請輸入一行英文句子?an apple a day keeps the doctor away\n",
            "['away', 'doctor', 'the', 'keeps', 'day', 'a', 'apple', 'an']\n"
          ],
          "name": "stdout"
        }
      ]
    },
    {
      "cell_type": "code",
      "metadata": {
        "id": "M21JaGAzals7",
        "colab_type": "code",
        "colab": {
          "base_uri": "https://localhost:8080/",
          "height": 68
        },
        "outputId": "65c6e7db-b0ac-4468-d149-6e75013cb8fc"
      },
      "source": [
        "#2. 找出及格的人\n",
        "全班學生 = set(['John', 'Mary', 'Tina', 'Fiona', 'Claire', 'Eva', 'Ben', 'Bill', 'Bert'\n",
        "])\n",
        "英文及格 = set(['John', 'Mary', 'Fiona', 'Claire', 'Ben', 'Bill'])\n",
        "數學及格 = set(['Mary', 'Fiona', 'Claire', 'Eva', 'Ben'])\n",
        "print('英文與數學都及格', 英文及格&數學及格)\n",
        "print('數學不及格', 全班學生-數學及格)\n",
        "print('英文及格與數學不及格', 英文及格&(全班學生-數學及格))"
      ],
      "execution_count": 3,
      "outputs": [
        {
          "output_type": "stream",
          "text": [
            "英文與數學都及格 {'Fiona', 'Claire', 'Mary', 'Ben'}\n",
            "數學不及格 {'John', 'Bert', 'Tina', 'Bill'}\n",
            "英文及格與數學不及格 {'John', 'Bill'}\n"
          ],
          "name": "stdout"
        }
      ]
    },
    {
      "cell_type": "code",
      "metadata": {
        "id": "mPA2HKLLal00",
        "colab_type": "code",
        "colab": {
          "base_uri": "https://localhost:8080/",
          "height": 34
        },
        "outputId": "6602c4e8-9423-4c90-a159-f6cb7605ee10"
      },
      "source": [
        "#3.找出兩首詩相同的字\n",
        "p1 = '紅豆生南國,春來發幾枝?願君多采擷,此物最相思。'\n",
        "p2 = '春眠不覺曉,處處聞啼鳥。夜來風雨聲,花落知多少。'\n",
        "s1 = set(p1)\n",
        "s1.remove(',')\n",
        "s1.remove('。')\n",
        "s1.remove('?')\n",
        "s2 = set(p2)\n",
        "s2.remove(',')\n",
        "s2.remove('。')\n",
        "print(s1&s2)"
      ],
      "execution_count": 4,
      "outputs": [
        {
          "output_type": "stream",
          "text": [
            "{'多', '春', '來'}\n"
          ],
          "name": "stdout"
        }
      ]
    },
    {
      "cell_type": "code",
      "metadata": {
        "id": "im-VUlGWavvS",
        "colab_type": "code",
        "colab": {
          "base_uri": "https://localhost:8080/",
          "height": 153
        },
        "outputId": "ac950582-8f21-417d-8285-0869fd81a171"
      },
      "source": [
        "#4.製作電子郵件通訊錄\n",
        "mail = dict()\n",
        "name = input('請輸入姓名?')\n",
        "email = input('請輸入電子郵件?')\n",
        "mail[name]=email\n",
        "name = input('請輸入姓名?')\n",
        "email = input('請輸入電子郵件?')\n",
        "mail[name]=email\n",
        "name = input('請輸入姓名?')\n",
        "email = input('請輸入電子郵件?')\n",
        "mail[name]=email\n",
        "name = input('請輸入要查詢電子郵件的姓名?')\n",
        "print(mail[name])"
      ],
      "execution_count": 7,
      "outputs": [
        {
          "output_type": "stream",
          "text": [
            "請輸入姓名?John\n",
            "請輸入電子郵件?John@xxx.tw\n",
            "請輸入姓名?Claire\n",
            "請輸入電子郵件?Claire@xxx.tw\n",
            "請輸入姓名?Fiona\n",
            "請輸入電子郵件?Fiona@xxx.tw\n",
            "請輸入要查詢電子郵件的姓名?Claire\n",
            "Claire@xxx.tw\n"
          ],
          "name": "stdout"
        }
      ]
    }
  ]
}