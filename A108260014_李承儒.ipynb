{
  "nbformat": 4,
  "nbformat_minor": 0,
  "metadata": {
    "colab": {
      "name": " A108260014 李承儒.ipynb",
      "provenance": []
    },
    "kernelspec": {
      "name": "python3",
      "display_name": "Python 3"
    }
  },
  "cells": [
    {
      "cell_type": "code",
      "metadata": {
        "id": "EFezgTLCvx4j",
        "colab_type": "code",
        "colab": {
          "base_uri": "https://localhost:8080/",
          "height": 187
        },
        "outputId": "9c600a2e-0d6f-4afd-97d7-2e0fc3fc2cbc"
      },
      "source": [
        "x = 0 \n",
        "while x < 10: \n",
        "    print(\"hello\")\n",
        "    x = x + 1   "
      ],
      "execution_count": 2,
      "outputs": [
        {
          "output_type": "stream",
          "text": [
            "hello\n",
            "hello\n",
            "hello\n",
            "hello\n",
            "hello\n",
            "hello\n",
            "hello\n",
            "hello\n",
            "hello\n",
            "hello\n"
          ],
          "name": "stdout"
        }
      ]
    },
    {
      "cell_type": "code",
      "metadata": {
        "id": "hAO9d5XHwNGa",
        "colab_type": "code",
        "colab": {
          "base_uri": "https://localhost:8080/",
          "height": 187
        },
        "outputId": "ff391d3f-3e4f-44b2-aa8a-5b0fa44b5d60"
      },
      "source": [
        "times = 0 \n",
        "while times < 10: \n",
        "    times = times + 1 \n",
        "    print(\"這是第\", times, \"次的hello\")"
      ],
      "execution_count": 3,
      "outputs": [
        {
          "output_type": "stream",
          "text": [
            "這是第 1 次的hello\n",
            "這是第 2 次的hello\n",
            "這是第 3 次的hello\n",
            "這是第 4 次的hello\n",
            "這是第 5 次的hello\n",
            "這是第 6 次的hello\n",
            "這是第 7 次的hello\n",
            "這是第 8 次的hello\n",
            "這是第 9 次的hello\n",
            "這是第 10 次的hello\n"
          ],
          "name": "stdout"
        }
      ]
    },
    {
      "cell_type": "code",
      "metadata": {
        "id": "bqYJ5-DZwPaI",
        "colab_type": "code",
        "colab": {
          "base_uri": "https://localhost:8080/",
          "height": 357
        },
        "outputId": "19654c6c-64e8-4de6-d956-e940c401e8c3"
      },
      "source": [
        "times = 0\n",
        "left = 0 \n",
        "while times < 10: \n",
        "    times = times + 1 \n",
        "    print(\"這是第\", times, \"次的hello\")\n",
        "    left = 10 - times \n",
        "    print(\"還有\", left, \"次機會\")"
      ],
      "execution_count": 4,
      "outputs": [
        {
          "output_type": "stream",
          "text": [
            "這是第 1 次的hello\n",
            "還有 9 次機會\n",
            "這是第 2 次的hello\n",
            "還有 8 次機會\n",
            "這是第 3 次的hello\n",
            "還有 7 次機會\n",
            "這是第 4 次的hello\n",
            "還有 6 次機會\n",
            "這是第 5 次的hello\n",
            "還有 5 次機會\n",
            "這是第 6 次的hello\n",
            "還有 4 次機會\n",
            "這是第 7 次的hello\n",
            "還有 3 次機會\n",
            "這是第 8 次的hello\n",
            "還有 2 次機會\n",
            "這是第 9 次的hello\n",
            "還有 1 次機會\n",
            "這是第 10 次的hello\n",
            "還有 0 次機會\n"
          ],
          "name": "stdout"
        }
      ]
    },
    {
      "cell_type": "code",
      "metadata": {
        "id": "WzJi2nDuwVA1",
        "colab_type": "code",
        "colab": {
          "base_uri": "https://localhost:8080/",
          "height": 34
        },
        "outputId": "d23f7c3f-fda9-44f3-d747-eb8469bfeeea"
      },
      "source": [
        "sum = 0\n",
        "i = 0\n",
        "while sum <= 1000:\n",
        "    i += 1\n",
        "    sum += i*i\n",
        "print('最小的n值為', i)"
      ],
      "execution_count": 5,
      "outputs": [
        {
          "output_type": "stream",
          "text": [
            "最小的n值為 14\n"
          ],
          "name": "stdout"
        }
      ]
    },
    {
      "cell_type": "code",
      "metadata": {
        "id": "BIhZjIEtwe0R",
        "colab_type": "code",
        "colab": {
          "base_uri": "https://localhost:8080/",
          "height": 34
        },
        "outputId": "2107a6fc-62ad-4110-84e9-20169f6b8263"
      },
      "source": [
        "sum = 0 \n",
        "x = 1 \n",
        "\n",
        "while x < 11: \n",
        "    sum = sum + x \n",
        "    x = x + 2\n",
        "    \n",
        "print(\"1 + 3 + 5 + 7 + 9 = \", sum)"
      ],
      "execution_count": 6,
      "outputs": [
        {
          "output_type": "stream",
          "text": [
            "1 + 3 + 5 + 7 + 9 =  25\n"
          ],
          "name": "stdout"
        }
      ]
    }
  ]
}